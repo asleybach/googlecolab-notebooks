{
  "nbformat": 4,
  "nbformat_minor": 0,
  "metadata": {
    "colab": {
      "name": "client_Oakdb_check_scripts.ipynb",
      "provenance": [],
      "collapsed_sections": [],
      "include_colab_link": true
    },
    "kernelspec": {
      "display_name": "Python 3",
      "name": "python3"
    }
  },
  "cells": [
    {
      "cell_type": "markdown",
      "metadata": {
        "id": "view-in-github",
        "colab_type": "text"
      },
      "source": [
        "<a href=\"https://colab.research.google.com/github/asleybach/googlecolab-notebooks/blob/main/client_Oakdb_check_scripts.ipynb\" target=\"_parent\"><img src=\"https://colab.research.google.com/assets/colab-badge.svg\" alt=\"Open In Colab\"/></a>"
      ]
    },
    {
      "cell_type": "markdown",
      "metadata": {
        "id": "yUJMnQ9QBXIj"
      },
      "source": [
        "# Script to connect to the consumption DB"
      ]
    },
    {
      "cell_type": "markdown",
      "metadata": {
        "id": "ggOWE2tLCSo5"
      },
      "source": [
        "## 1 Read metadata\n"
      ]
    },
    {
      "cell_type": "code",
      "metadata": {
        "colab": {
          "base_uri": "https://localhost:8080/"
        },
        "id": "x4geluO5Yvr_",
        "outputId": "d74263a8-2c10-4275-c0db-a65bdadf5fc8"
      },
      "source": [
        "pip install psycopg2-binary"
      ],
      "execution_count": null,
      "outputs": [
        {
          "output_type": "stream",
          "text": [
            "Requirement already satisfied: psycopg2-binary in /usr/local/lib/python3.6/dist-packages (2.8.6)\n"
          ],
          "name": "stdout"
        }
      ]
    },
    {
      "cell_type": "code",
      "metadata": {
        "id": "0MVSCHbTY2vI"
      },
      "source": [
        "import psycopg2\n",
        "import pandas as pd\n",
        "from getpass import getpass"
      ],
      "execution_count": null,
      "outputs": []
    },
    {
      "cell_type": "markdown",
      "metadata": {
        "id": "2iGTzf8wpig8"
      },
      "source": [
        "insert username and corresponding password"
      ]
    },
    {
      "cell_type": "code",
      "metadata": {
        "colab": {
          "base_uri": "https://localhost:8080/"
        },
        "id": "heSZg4ijoZC4",
        "outputId": "133d851f-e99f-4c5d-c814-feb6242f358a"
      },
      "source": [
        "_username = getpass('Enter the username value: ')\n",
        "_password = getpass('Enter password:')"
      ],
      "execution_count": null,
      "outputs": [
        {
          "output_type": "stream",
          "text": [
            "Enter the username value: ··········\n",
            "Enter password:··········\n"
          ],
          "name": "stdout"
        }
      ]
    },
    {
      "cell_type": "code",
      "metadata": {
        "id": "CACPMp5aB_u2"
      },
      "source": [
        "# Database class for management and connection with the database\n",
        "\n",
        "class Database:\n",
        "    def __init__(self, db, username, password, port, host):\n",
        "        self.db = db\n",
        "        self.username = username\n",
        "        self.password = password\n",
        "        self.port = port\n",
        "        self.host = host\n",
        "        self.cur = None\n",
        "        self.conn = None\n",
        "\n",
        "    def connect(self):\n",
        "        self.conn = psycopg2.connect(\n",
        "          database=self.db,\n",
        "          user=self.username,\n",
        "          password=self.password,\n",
        "          host=self.host,\n",
        "          port=self.port\n",
        "          )\n",
        "        self.cur = self.conn.cursor()\n",
        "\n",
        "    def execute_query(self, query):\n",
        "        self.cur.execute(query)\n",
        "        self.conn.commit()\n",
        "\n",
        "    def get_data(self):\n",
        "        self.cur.fetchall()\n",
        "\n",
        "    def close(self):\n",
        "        self.cur.close()\n",
        "        self.conn.close()\n",
        "\n",
        "MyDb = Database(\n",
        "    db='consumption',\n",
        "    username=_username,\n",
        "    password=_password,\n",
        "    host='oak-consumption.ceedji5fvimj.eu-west-2.rds.amazonaws.com',\n",
        "    port='5432'\n",
        ")"
      ],
      "execution_count": null,
      "outputs": []
    },
    {
      "cell_type": "code",
      "metadata": {
        "id": "Spd2YHMhGooF"
      },
      "source": [
        "# function to get the resources metadata\n",
        "\n",
        "def get_metadata():\n",
        "    MyDb.connect()\n",
        "    print('** connected to the db consumption_resourceconsumption')\n",
        "    postgreSQL_select_Query = \"SELECT * FROM consumption_metadata\"\n",
        "    MyDb.execute_query(postgreSQL_select_Query)\n",
        "    df = pd.DataFrame(\n",
        "        MyDb.cur,\n",
        "        columns = [\n",
        "            'id',\n",
        "            'veId',\n",
        "            've_name',\n",
        "            've_active',\n",
        "            've_city',\n",
        "            've_contry',\n",
        "            'postalCode',\n",
        "            'resourceId',\n",
        "            'resource_name',\n",
        "            'resource_description',\n",
        "            'resource_active',\n",
        "            'resource_classifier',\n",
        "            'baseUnit'\n",
        "        ]\n",
        "    )\n",
        "    return df"
      ],
      "execution_count": null,
      "outputs": []
    },
    {
      "cell_type": "code",
      "metadata": {
        "colab": {
          "base_uri": "https://localhost:8080/"
        },
        "id": "XEhixLSBKIAO",
        "outputId": "fda3b1e0-6d0d-48b3-86c6-fba06af33afd"
      },
      "source": [
        "# Get metadata\n",
        "\n",
        "data = get_metadata()\n",
        "\n",
        "print(data)\n",
        "#print(data.iloc[0])\n",
        "#print(data['resource_active'])\n",
        "\n"
      ],
      "execution_count": null,
      "outputs": [
        {
          "output_type": "stream",
          "text": [
            "** connected to the db consumption_resourceconsumption\n",
            "     id                                  veId  ... resource_classifier  baseUnit\n",
            "0    40  0577bf7d-1ce9-4ddc-b783-18abca7b1fd7  ...                None      None\n",
            "1    41  0577bf7d-1ce9-4ddc-b783-18abca7b1fd7  ...                None      None\n",
            "2    42  0577bf7d-1ce9-4ddc-b783-18abca7b1fd7  ...                None      None\n",
            "3    17  94c6c61f-8113-4807-8163-958b832ad181  ...          MONITORING       Kwh\n",
            "4    18  94c6c61f-8113-4807-8163-958b832ad181  ...          MONITORING       Kwh\n",
            "..  ...                                   ...  ...                 ...       ...\n",
            "84  102  c07c0e42-9712-4b49-a905-5873e43cac8a  ...          MONITORING       Kwh\n",
            "85  103  c07c0e42-9712-4b49-a905-5873e43cac8a  ...          ALWAYS_OFF       Kwh\n",
            "86  104  906949cc-2d9c-4530-adef-eb09c73dad55  ...          ALWAYS_OFF       Kwh\n",
            "87  105  15f84176-616c-43e4-9f42-ae800777c30d  ...                None      None\n",
            "88   90  15f84176-616c-43e4-9f42-ae800777c30d  ...                None      None\n",
            "\n",
            "[89 rows x 13 columns]\n"
          ],
          "name": "stdout"
        }
      ]
    },
    {
      "cell_type": "code",
      "metadata": {
        "colab": {
          "base_uri": "https://localhost:8080/",
          "height": 424
        },
        "id": "jC45QYlNXBcH",
        "outputId": "d1c043ed-70d9-40a7-959e-3255ba6641b0"
      },
      "source": [
        "df = pd.DataFrame(data, columns = ['resource_name','resource_active'])\n",
        "df"
      ],
      "execution_count": null,
      "outputs": [
        {
          "output_type": "execute_result",
          "data": {
            "text/html": [
              "<div>\n",
              "<style scoped>\n",
              "    .dataframe tbody tr th:only-of-type {\n",
              "        vertical-align: middle;\n",
              "    }\n",
              "\n",
              "    .dataframe tbody tr th {\n",
              "        vertical-align: top;\n",
              "    }\n",
              "\n",
              "    .dataframe thead th {\n",
              "        text-align: right;\n",
              "    }\n",
              "</style>\n",
              "<table border=\"1\" class=\"dataframe\">\n",
              "  <thead>\n",
              "    <tr style=\"text-align: right;\">\n",
              "      <th></th>\n",
              "      <th>resource_name</th>\n",
              "      <th>resource_active</th>\n",
              "    </tr>\n",
              "  </thead>\n",
              "  <tbody>\n",
              "    <tr>\n",
              "      <th>0</th>\n",
              "      <td>None</td>\n",
              "      <td>None</td>\n",
              "    </tr>\n",
              "    <tr>\n",
              "      <th>1</th>\n",
              "      <td>None</td>\n",
              "      <td>None</td>\n",
              "    </tr>\n",
              "    <tr>\n",
              "      <th>2</th>\n",
              "      <td>None</td>\n",
              "      <td>None</td>\n",
              "    </tr>\n",
              "    <tr>\n",
              "      <th>3</th>\n",
              "      <td>Railway Barn</td>\n",
              "      <td>True</td>\n",
              "    </tr>\n",
              "    <tr>\n",
              "      <th>4</th>\n",
              "      <td>Railway Barn</td>\n",
              "      <td>True</td>\n",
              "    </tr>\n",
              "    <tr>\n",
              "      <th>...</th>\n",
              "      <td>...</td>\n",
              "      <td>...</td>\n",
              "    </tr>\n",
              "    <tr>\n",
              "      <th>84</th>\n",
              "      <td>Meter</td>\n",
              "      <td>True</td>\n",
              "    </tr>\n",
              "    <tr>\n",
              "      <th>85</th>\n",
              "      <td>Signal bridge</td>\n",
              "      <td>True</td>\n",
              "    </tr>\n",
              "    <tr>\n",
              "      <th>86</th>\n",
              "      <td>The Studio fridge LCC Ox tall boy</td>\n",
              "      <td>True</td>\n",
              "    </tr>\n",
              "    <tr>\n",
              "      <th>87</th>\n",
              "      <td>None</td>\n",
              "      <td>None</td>\n",
              "    </tr>\n",
              "    <tr>\n",
              "      <th>88</th>\n",
              "      <td>None</td>\n",
              "      <td>None</td>\n",
              "    </tr>\n",
              "  </tbody>\n",
              "</table>\n",
              "<p>89 rows × 2 columns</p>\n",
              "</div>"
            ],
            "text/plain": [
              "                        resource_name resource_active\n",
              "0                                None            None\n",
              "1                                None            None\n",
              "2                                None            None\n",
              "3                        Railway Barn            True\n",
              "4                        Railway Barn            True\n",
              "..                                ...             ...\n",
              "84                              Meter            True\n",
              "85                      Signal bridge            True\n",
              "86  The Studio fridge LCC Ox tall boy            True\n",
              "87                               None            None\n",
              "88                               None            None\n",
              "\n",
              "[89 rows x 2 columns]"
            ]
          },
          "metadata": {
            "tags": []
          },
          "execution_count": 9
        }
      ]
    },
    {
      "cell_type": "code",
      "metadata": {
        "id": "EDmQL07TUKmq"
      },
      "source": [
        "def read_metadata_by_resource(resource_identifier):\n",
        "    return (data[(data['resourceId']==resource_identifier)])\n"
      ],
      "execution_count": null,
      "outputs": []
    },
    {
      "cell_type": "markdown",
      "metadata": {
        "id": "U7-6JgzlSmXb"
      },
      "source": [
        "Test, we use the resource_identifier 51ce905c-fa11-47c0-81c2-7dd519331bd8\n"
      ]
    },
    {
      "cell_type": "code",
      "metadata": {
        "colab": {
          "base_uri": "https://localhost:8080/",
          "height": 153
        },
        "id": "SpWyzXN7WCoS",
        "outputId": "6d668c16-baba-444b-cfd7-0864e852d634"
      },
      "source": [
        "show = read_metadata_by_resource('a099100a-9da4-49d4-b2f3-e1ee7dcc986d')\n",
        "show"
      ],
      "execution_count": null,
      "outputs": [
        {
          "output_type": "execute_result",
          "data": {
            "text/html": [
              "<div>\n",
              "<style scoped>\n",
              "    .dataframe tbody tr th:only-of-type {\n",
              "        vertical-align: middle;\n",
              "    }\n",
              "\n",
              "    .dataframe tbody tr th {\n",
              "        vertical-align: top;\n",
              "    }\n",
              "\n",
              "    .dataframe thead th {\n",
              "        text-align: right;\n",
              "    }\n",
              "</style>\n",
              "<table border=\"1\" class=\"dataframe\">\n",
              "  <thead>\n",
              "    <tr style=\"text-align: right;\">\n",
              "      <th></th>\n",
              "      <th>id</th>\n",
              "      <th>veId</th>\n",
              "      <th>ve_name</th>\n",
              "      <th>ve_active</th>\n",
              "      <th>ve_city</th>\n",
              "      <th>ve_contry</th>\n",
              "      <th>postalCode</th>\n",
              "      <th>resourceId</th>\n",
              "      <th>resource_name</th>\n",
              "      <th>resource_description</th>\n",
              "      <th>resource_active</th>\n",
              "      <th>resource_classifier</th>\n",
              "      <th>baseUnit</th>\n",
              "    </tr>\n",
              "  </thead>\n",
              "  <tbody>\n",
              "    <tr>\n",
              "      <th>88</th>\n",
              "      <td>90</td>\n",
              "      <td>15f84176-616c-43e4-9f42-ae800777c30d</td>\n",
              "      <td>Mr. Fogg's House of Botanicals</td>\n",
              "      <td>True</td>\n",
              "      <td>Fitzrovia, London</td>\n",
              "      <td>None</td>\n",
              "      <td>E2 68CB</td>\n",
              "      <td>a099100a-9da4-49d4-b2f3-e1ee7dcc986d</td>\n",
              "      <td>None</td>\n",
              "      <td>None</td>\n",
              "      <td>None</td>\n",
              "      <td>None</td>\n",
              "      <td>None</td>\n",
              "    </tr>\n",
              "  </tbody>\n",
              "</table>\n",
              "</div>"
            ],
            "text/plain": [
              "    id                                  veId  ... resource_classifier  baseUnit\n",
              "88  90  15f84176-616c-43e4-9f42-ae800777c30d  ...                None      None\n",
              "\n",
              "[1 rows x 13 columns]"
            ]
          },
          "metadata": {
            "tags": []
          },
          "execution_count": 15
        }
      ]
    },
    {
      "cell_type": "markdown",
      "metadata": {
        "id": "_UgHlPyj3Goo"
      },
      "source": [
        "## 2 Returns consumption data for a specific resource"
      ]
    },
    {
      "cell_type": "markdown",
      "metadata": {
        "id": "4ymf3sEdhUWV"
      },
      "source": [
        "insert the identifier of the resource to see its consumption data,\n",
        "change to check another resource"
      ]
    },
    {
      "cell_type": "code",
      "metadata": {
        "id": "A7vQVFLghGTk"
      },
      "source": [
        "_resource = 'a099100a-9da4-49d4-b2f3-e1ee7dcc986d'"
      ],
      "execution_count": null,
      "outputs": []
    },
    {
      "cell_type": "code",
      "metadata": {
        "colab": {
          "base_uri": "https://localhost:8080/",
          "height": 424
        },
        "id": "zsiLXrm53M_g",
        "outputId": "cdbe2cf1-9c89-4c31-abfc-e71d523ac7d4"
      },
      "source": [
        "def data_by_resource(resource):\n",
        "  MyDb.connect()\n",
        "  postgreSQL_select_Query = f\"SELECT * FROM consumption_resourceconsumption WHERE reference_resource LIKE '{_resource}'\"\n",
        "  MyDb.execute_query(postgreSQL_select_Query)\n",
        "  dataf = pd.DataFrame(\n",
        "          MyDb.cur,\n",
        "          columns = [\n",
        "              'id',\n",
        "              'timestamp',\n",
        "              'consumption',\n",
        "              'reference_resource',\n",
        "          ]\n",
        "      )\n",
        "\n",
        "  if dataf.empty:\n",
        "    print('data not found...')\n",
        "  return dataf\n",
        "\n",
        "dataf = data_by_resource(_resource)\n",
        "dataf"
      ],
      "execution_count": null,
      "outputs": [
        {
          "output_type": "execute_result",
          "data": {
            "text/html": [
              "<div>\n",
              "<style scoped>\n",
              "    .dataframe tbody tr th:only-of-type {\n",
              "        vertical-align: middle;\n",
              "    }\n",
              "\n",
              "    .dataframe tbody tr th {\n",
              "        vertical-align: top;\n",
              "    }\n",
              "\n",
              "    .dataframe thead th {\n",
              "        text-align: right;\n",
              "    }\n",
              "</style>\n",
              "<table border=\"1\" class=\"dataframe\">\n",
              "  <thead>\n",
              "    <tr style=\"text-align: right;\">\n",
              "      <th></th>\n",
              "      <th>id</th>\n",
              "      <th>timestamp</th>\n",
              "      <th>consumption</th>\n",
              "      <th>reference_resource</th>\n",
              "    </tr>\n",
              "  </thead>\n",
              "  <tbody>\n",
              "    <tr>\n",
              "      <th>0</th>\n",
              "      <td>410996</td>\n",
              "      <td>2020-11-05 12:56:00</td>\n",
              "      <td>0.0205</td>\n",
              "      <td>a099100a-9da4-49d4-b2f3-e1ee7dcc986d</td>\n",
              "    </tr>\n",
              "    <tr>\n",
              "      <th>1</th>\n",
              "      <td>410998</td>\n",
              "      <td>2020-11-05 12:57:00</td>\n",
              "      <td>0.0205</td>\n",
              "      <td>a099100a-9da4-49d4-b2f3-e1ee7dcc986d</td>\n",
              "    </tr>\n",
              "    <tr>\n",
              "      <th>2</th>\n",
              "      <td>411000</td>\n",
              "      <td>2020-11-05 12:58:00</td>\n",
              "      <td>0.0206</td>\n",
              "      <td>a099100a-9da4-49d4-b2f3-e1ee7dcc986d</td>\n",
              "    </tr>\n",
              "    <tr>\n",
              "      <th>3</th>\n",
              "      <td>411002</td>\n",
              "      <td>2020-11-05 12:59:00</td>\n",
              "      <td>0.0206</td>\n",
              "      <td>a099100a-9da4-49d4-b2f3-e1ee7dcc986d</td>\n",
              "    </tr>\n",
              "    <tr>\n",
              "      <th>4</th>\n",
              "      <td>411004</td>\n",
              "      <td>2020-11-05 13:00:00</td>\n",
              "      <td>0.0207</td>\n",
              "      <td>a099100a-9da4-49d4-b2f3-e1ee7dcc986d</td>\n",
              "    </tr>\n",
              "    <tr>\n",
              "      <th>...</th>\n",
              "      <td>...</td>\n",
              "      <td>...</td>\n",
              "      <td>...</td>\n",
              "      <td>...</td>\n",
              "    </tr>\n",
              "    <tr>\n",
              "      <th>31917</th>\n",
              "      <td>552751</td>\n",
              "      <td>2020-12-24 12:19:00</td>\n",
              "      <td>0.011</td>\n",
              "      <td>a099100a-9da4-49d4-b2f3-e1ee7dcc986d</td>\n",
              "    </tr>\n",
              "    <tr>\n",
              "      <th>31918</th>\n",
              "      <td>552752</td>\n",
              "      <td>2020-12-24 12:20:00</td>\n",
              "      <td>0.0109</td>\n",
              "      <td>a099100a-9da4-49d4-b2f3-e1ee7dcc986d</td>\n",
              "    </tr>\n",
              "    <tr>\n",
              "      <th>31919</th>\n",
              "      <td>552753</td>\n",
              "      <td>2020-12-24 12:21:00</td>\n",
              "      <td>0.011</td>\n",
              "      <td>a099100a-9da4-49d4-b2f3-e1ee7dcc986d</td>\n",
              "    </tr>\n",
              "    <tr>\n",
              "      <th>31920</th>\n",
              "      <td>552754</td>\n",
              "      <td>2020-12-24 12:22:00</td>\n",
              "      <td>0.0109</td>\n",
              "      <td>a099100a-9da4-49d4-b2f3-e1ee7dcc986d</td>\n",
              "    </tr>\n",
              "    <tr>\n",
              "      <th>31921</th>\n",
              "      <td>552755</td>\n",
              "      <td>2020-12-24 12:23:00</td>\n",
              "      <td>0.0109</td>\n",
              "      <td>a099100a-9da4-49d4-b2f3-e1ee7dcc986d</td>\n",
              "    </tr>\n",
              "  </tbody>\n",
              "</table>\n",
              "<p>31922 rows × 4 columns</p>\n",
              "</div>"
            ],
            "text/plain": [
              "           id  ...                    reference_resource\n",
              "0      410996  ...  a099100a-9da4-49d4-b2f3-e1ee7dcc986d\n",
              "1      410998  ...  a099100a-9da4-49d4-b2f3-e1ee7dcc986d\n",
              "2      411000  ...  a099100a-9da4-49d4-b2f3-e1ee7dcc986d\n",
              "3      411002  ...  a099100a-9da4-49d4-b2f3-e1ee7dcc986d\n",
              "4      411004  ...  a099100a-9da4-49d4-b2f3-e1ee7dcc986d\n",
              "...       ...  ...                                   ...\n",
              "31917  552751  ...  a099100a-9da4-49d4-b2f3-e1ee7dcc986d\n",
              "31918  552752  ...  a099100a-9da4-49d4-b2f3-e1ee7dcc986d\n",
              "31919  552753  ...  a099100a-9da4-49d4-b2f3-e1ee7dcc986d\n",
              "31920  552754  ...  a099100a-9da4-49d4-b2f3-e1ee7dcc986d\n",
              "31921  552755  ...  a099100a-9da4-49d4-b2f3-e1ee7dcc986d\n",
              "\n",
              "[31922 rows x 4 columns]"
            ]
          },
          "metadata": {
            "tags": []
          },
          "execution_count": 14
        }
      ]
    },
    {
      "cell_type": "markdown",
      "metadata": {
        "id": "0ky4oiO6MkDl"
      },
      "source": [
        "## 3 Returns resources for client"
      ]
    },
    {
      "cell_type": "code",
      "metadata": {
        "colab": {
          "base_uri": "https://localhost:8080/"
        },
        "id": "xagFykD3SDfu",
        "outputId": "4e5103b1-fb80-43e0-b1b7-f66c95001644"
      },
      "source": [
        "client_df = pd.DataFrame(data, columns = ['ve_name','resource_name','resource_active'])\n",
        "client_df"
      ],
      "execution_count": null,
      "outputs": [
        {
          "output_type": "execute_result",
          "data": {
            "text/html": [
              "<div>\n",
              "<style scoped>\n",
              "    .dataframe tbody tr th:only-of-type {\n",
              "        vertical-align: middle;\n",
              "    }\n",
              "\n",
              "    .dataframe tbody tr th {\n",
              "        vertical-align: top;\n",
              "    }\n",
              "\n",
              "    .dataframe thead th {\n",
              "        text-align: right;\n",
              "    }\n",
              "</style>\n",
              "<table border=\"1\" class=\"dataframe\">\n",
              "  <thead>\n",
              "    <tr style=\"text-align: right;\">\n",
              "      <th></th>\n",
              "      <th>ve_name</th>\n",
              "      <th>resource_name</th>\n",
              "      <th>resource_active</th>\n",
              "    </tr>\n",
              "  </thead>\n",
              "  <tbody>\n",
              "    <tr>\n",
              "      <th>0</th>\n",
              "      <td>Sager &amp; Wilde - Paradise Row</td>\n",
              "      <td>None</td>\n",
              "      <td>None</td>\n",
              "    </tr>\n",
              "    <tr>\n",
              "      <th>1</th>\n",
              "      <td>Sager &amp; Wilde - Paradise Row</td>\n",
              "      <td>None</td>\n",
              "      <td>None</td>\n",
              "    </tr>\n",
              "    <tr>\n",
              "      <th>2</th>\n",
              "      <td>Sager &amp; Wilde - Paradise Row</td>\n",
              "      <td>None</td>\n",
              "      <td>None</td>\n",
              "    </tr>\n",
              "    <tr>\n",
              "      <th>3</th>\n",
              "      <td>New Vineyard</td>\n",
              "      <td>Railway Barn</td>\n",
              "      <td>True</td>\n",
              "    </tr>\n",
              "    <tr>\n",
              "      <th>4</th>\n",
              "      <td>New Vineyard</td>\n",
              "      <td>Railway Barn</td>\n",
              "      <td>True</td>\n",
              "    </tr>\n",
              "    <tr>\n",
              "      <th>...</th>\n",
              "      <td>...</td>\n",
              "      <td>...</td>\n",
              "      <td>...</td>\n",
              "    </tr>\n",
              "    <tr>\n",
              "      <th>84</th>\n",
              "      <td>LCC Shaftesbury</td>\n",
              "      <td>Meter</td>\n",
              "      <td>True</td>\n",
              "    </tr>\n",
              "    <tr>\n",
              "      <th>85</th>\n",
              "      <td>LCC Shaftesbury</td>\n",
              "      <td>Signal bridge</td>\n",
              "      <td>True</td>\n",
              "    </tr>\n",
              "    <tr>\n",
              "      <th>86</th>\n",
              "      <td>LCC Oxford Street</td>\n",
              "      <td>The Studio fridge LCC Ox tall boy</td>\n",
              "      <td>True</td>\n",
              "    </tr>\n",
              "    <tr>\n",
              "      <th>87</th>\n",
              "      <td>Mr. Fogg's House of Botanicals</td>\n",
              "      <td>None</td>\n",
              "      <td>None</td>\n",
              "    </tr>\n",
              "    <tr>\n",
              "      <th>88</th>\n",
              "      <td>Mr. Fogg's House of Botanicals</td>\n",
              "      <td>None</td>\n",
              "      <td>None</td>\n",
              "    </tr>\n",
              "  </tbody>\n",
              "</table>\n",
              "<p>89 rows × 3 columns</p>\n",
              "</div>"
            ],
            "text/plain": [
              "                           ve_name  ... resource_active\n",
              "0     Sager & Wilde - Paradise Row  ...            None\n",
              "1     Sager & Wilde - Paradise Row  ...            None\n",
              "2     Sager & Wilde - Paradise Row  ...            None\n",
              "3                     New Vineyard  ...            True\n",
              "4                     New Vineyard  ...            True\n",
              "..                             ...  ...             ...\n",
              "84                 LCC Shaftesbury  ...            True\n",
              "85                 LCC Shaftesbury  ...            True\n",
              "86               LCC Oxford Street  ...            True\n",
              "87  Mr. Fogg's House of Botanicals  ...            None\n",
              "88  Mr. Fogg's House of Botanicals  ...            None\n",
              "\n",
              "[89 rows x 3 columns]"
            ]
          },
          "metadata": {
            "tags": []
          },
          "execution_count": 16
        }
      ]
    },
    {
      "cell_type": "markdown",
      "metadata": {
        "id": "K-io9XQPPIJZ"
      },
      "source": [
        "**Return all resources by a client**\n",
        "\n",
        "To search for resources by user registered on the platform, the user name must be assigned, are examples of user names\n",
        "\n",
        "\n",
        "*   Sager and Wilde Paradise Row\n",
        "*   LCC Oxford Circus\n",
        "*   Queen Park Cafe\n",
        "*   The Elgin\n",
        "*   Coin Laudry\n",
        "*   Heads & Tails\n",
        "*   Victory Mansion\n",
        "*   LCC Shaftesbury\n",
        "\n",
        "\n",
        "\n",
        "\n",
        "\n"
      ]
    },
    {
      "cell_type": "code",
      "metadata": {
        "id": "UDBPHMvLMtcn"
      },
      "source": [
        "_member_name = 'Sager & Wilde - Paradise Row'"
      ],
      "execution_count": null,
      "outputs": []
    },
    {
      "cell_type": "code",
      "metadata": {
        "colab": {
          "base_uri": "https://localhost:8080/",
          "height": 175
        },
        "id": "BWELH6g-TKRE",
        "outputId": "560c1a75-4345-4f12-fdbb-6bccb7ab6fc0"
      },
      "source": [
        "resources_client_df = client_df.loc[client_df.ve_name == _member_name]\n",
        "if resources_client_df.empty:\n",
        "  print('not found')\n",
        "resources_client_df"
      ],
      "execution_count": null,
      "outputs": [
        {
          "output_type": "execute_result",
          "data": {
            "text/html": [
              "<div>\n",
              "<style scoped>\n",
              "    .dataframe tbody tr th:only-of-type {\n",
              "        vertical-align: middle;\n",
              "    }\n",
              "\n",
              "    .dataframe tbody tr th {\n",
              "        vertical-align: top;\n",
              "    }\n",
              "\n",
              "    .dataframe thead th {\n",
              "        text-align: right;\n",
              "    }\n",
              "</style>\n",
              "<table border=\"1\" class=\"dataframe\">\n",
              "  <thead>\n",
              "    <tr style=\"text-align: right;\">\n",
              "      <th></th>\n",
              "      <th>ve_name</th>\n",
              "      <th>resource_name</th>\n",
              "      <th>resource_active</th>\n",
              "    </tr>\n",
              "  </thead>\n",
              "  <tbody>\n",
              "    <tr>\n",
              "      <th>0</th>\n",
              "      <td>Sager &amp; Wilde - Paradise Row</td>\n",
              "      <td>None</td>\n",
              "      <td>None</td>\n",
              "    </tr>\n",
              "    <tr>\n",
              "      <th>1</th>\n",
              "      <td>Sager &amp; Wilde - Paradise Row</td>\n",
              "      <td>None</td>\n",
              "      <td>None</td>\n",
              "    </tr>\n",
              "    <tr>\n",
              "      <th>2</th>\n",
              "      <td>Sager &amp; Wilde - Paradise Row</td>\n",
              "      <td>None</td>\n",
              "      <td>None</td>\n",
              "    </tr>\n",
              "    <tr>\n",
              "      <th>30</th>\n",
              "      <td>Sager &amp; Wilde - Paradise Row</td>\n",
              "      <td>None</td>\n",
              "      <td>None</td>\n",
              "    </tr>\n",
              "  </tbody>\n",
              "</table>\n",
              "</div>"
            ],
            "text/plain": [
              "                         ve_name resource_name resource_active\n",
              "0   Sager & Wilde - Paradise Row          None            None\n",
              "1   Sager & Wilde - Paradise Row          None            None\n",
              "2   Sager & Wilde - Paradise Row          None            None\n",
              "30  Sager & Wilde - Paradise Row          None            None"
            ]
          },
          "metadata": {
            "tags": []
          },
          "execution_count": 36
        }
      ]
    }
  ]
}